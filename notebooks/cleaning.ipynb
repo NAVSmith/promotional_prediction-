{
 "cells": [
  {
   "cell_type": "code",
   "execution_count": 8,
   "metadata": {},
   "outputs": [],
   "source": [
    "import numpy as np\n",
    "import pandas as pd\n",
    "\n",
    "from sklearn.utils import resample\n",
    "from sklearn.model_selection import train_test_split\n",
    "from sklearn.ensemble import RandomForestClassifier\n",
    "#import category_encoders as ce\n",
    "from sklearn.metrics import f1_score\n",
    "\n",
    "import xgboost as xgb"
   ]
  },
  {
   "cell_type": "code",
   "execution_count": 9,
   "metadata": {},
   "outputs": [],
   "source": [
    "df = pd.read_csv('../data/train.csv')"
   ]
  },
  {
   "cell_type": "code",
   "execution_count": null,
   "metadata": {},
   "outputs": [],
   "source": []
  },
  {
   "cell_type": "code",
   "execution_count": 10,
   "metadata": {},
   "outputs": [
    {
     "name": "stdout",
     "output_type": "stream",
     "text": [
      "<class 'pandas.core.frame.DataFrame'>\n",
      "RangeIndex: 38312 entries, 0 to 38311\n",
      "Data columns (total 19 columns):\n",
      " #   Column                               Non-Null Count  Dtype  \n",
      "---  ------                               --------------  -----  \n",
      " 0   EmployeeNo                           38312 non-null  object \n",
      " 1   Division                             38312 non-null  object \n",
      " 2   Qualification                        36633 non-null  object \n",
      " 3   Gender                               38312 non-null  object \n",
      " 4   Channel_of_Recruitment               38312 non-null  object \n",
      " 5   Trainings_Attended                   38312 non-null  int64  \n",
      " 6   Year_of_birth                        38312 non-null  int64  \n",
      " 7   Last_performance_score               38312 non-null  float64\n",
      " 8   Year_of_recruitment                  38312 non-null  int64  \n",
      " 9   Targets_met                          38312 non-null  int64  \n",
      " 10  Previous_Award                       38312 non-null  int64  \n",
      " 11  Training_score_average               38312 non-null  int64  \n",
      " 12  State_Of_Origin                      38312 non-null  object \n",
      " 13  Foreign_schooled                     38312 non-null  object \n",
      " 14  Marital_Status                       38312 non-null  object \n",
      " 15  Past_Disciplinary_Action             38312 non-null  object \n",
      " 16  Previous_IntraDepartmental_Movement  38312 non-null  object \n",
      " 17  No_of_previous_employers             38312 non-null  object \n",
      " 18  Promoted_or_Not                      38312 non-null  int64  \n",
      "dtypes: float64(1), int64(7), object(11)\n",
      "memory usage: 5.6+ MB\n"
     ]
    }
   ],
   "source": [
    "df.info()"
   ]
  },
  {
   "cell_type": "code",
   "execution_count": null,
   "metadata": {},
   "outputs": [],
   "source": []
  },
  {
   "cell_type": "code",
   "execution_count": 11,
   "metadata": {},
   "outputs": [
    {
     "name": "stdout",
     "output_type": "stream",
     "text": [
      "EmployeeNo \n",
      " YAK/S/48710    1\n",
      "YAK/S/01051    1\n",
      "YAK/S/34540    1\n",
      "YAK/S/08463    1\n",
      "YAK/S/50374    1\n",
      "              ..\n",
      "YAK/S/33563    1\n",
      "YAK/S/14064    1\n",
      "YAK/S/04174    1\n",
      "YAK/S/28459    1\n",
      "YAK/S/26751    1\n",
      "Name: EmployeeNo, Length: 38312, dtype: int64 \n",
      "\n",
      "Division \n",
      " Commercial Sales and Marketing                 11695\n",
      "Customer Support and Field Operations           7973\n",
      "Sourcing and Purchasing                         5052\n",
      "Information Technology and Solution Support     4952\n",
      "Information and Strategy                        3721\n",
      "Business Finance Operations                     1786\n",
      "People/HR Management                            1704\n",
      "Regulatory and Legal services                    733\n",
      "Research and Innovation                          696\n",
      "Name: Division, dtype: int64 \n",
      "\n",
      "Qualification \n",
      " First Degree or HND         25578\n",
      "MSc, MBA and PhD            10469\n",
      "Non-University Education      586\n",
      "Name: Qualification, dtype: int64 \n",
      "\n",
      "Gender \n",
      " Male      26880\n",
      "Female    11432\n",
      "Name: Gender, dtype: int64 \n",
      "\n",
      "Channel_of_Recruitment \n",
      " Agency and others                  21310\n",
      "Direct Internal process            16194\n",
      "Referral and Special candidates      808\n",
      "Name: Channel_of_Recruitment, dtype: int64 \n",
      "\n",
      "Trainings_Attended \n",
      " 2     30981\n",
      "3      5631\n",
      "4      1244\n",
      "5       316\n",
      "6        93\n",
      "7        28\n",
      "8         6\n",
      "10        5\n",
      "9         4\n",
      "11        4\n",
      "Name: Trainings_Attended, dtype: int64 \n",
      "\n",
      "Year_of_birth \n",
      " 1991    2544\n",
      "1990    2506\n",
      "1989    2441\n",
      "1992    2380\n",
      "1988    2268\n",
      "1993    2217\n",
      "1987    2157\n",
      "1994    1985\n",
      "1986    1882\n",
      "1985    1766\n",
      "1984    1505\n",
      "1995    1416\n",
      "1983    1342\n",
      "1982    1195\n",
      "1981    1162\n",
      "1996     910\n",
      "1980     893\n",
      "1979     797\n",
      "1978     685\n",
      "1977     600\n",
      "1997     596\n",
      "1976     551\n",
      "1975     508\n",
      "1973     397\n",
      "1974     394\n",
      "1971     353\n",
      "1972     312\n",
      "1998     305\n",
      "1970     256\n",
      "1969     249\n",
      "1968     233\n",
      "1966     207\n",
      "1967     195\n",
      "1965     178\n",
      "1964     168\n",
      "1999     167\n",
      "1963     161\n",
      "1961     147\n",
      "1962     134\n",
      "2001      71\n",
      "2000      66\n",
      "1957       4\n",
      "1958       3\n",
      "1956       1\n",
      "1955       1\n",
      "1950       1\n",
      "1959       1\n",
      "1960       1\n",
      "1952       1\n",
      "Name: Year_of_birth, dtype: int64 \n",
      "\n",
      "Last_performance_score \n",
      " 7.5     12993\n",
      "12.5     8213\n",
      "10.0     6932\n",
      "2.5      4325\n",
      "5.0      2944\n",
      "0.0      2905\n",
      "Name: Last_performance_score, dtype: int64 \n",
      "\n",
      "Year_of_recruitment \n",
      " 2016    4916\n",
      "2015    4757\n",
      "2017    4656\n",
      "2014    4101\n",
      "2012    3909\n",
      "2013    3314\n",
      "2018    3194\n",
      "2011    2011\n",
      "2010    1865\n",
      "2009    1497\n",
      "2008     619\n",
      "2007     570\n",
      "2006     472\n",
      "2004     422\n",
      "2003     394\n",
      "2005     376\n",
      "2002     293\n",
      "2001     269\n",
      "2000     230\n",
      "1999      90\n",
      "1998      53\n",
      "1995      51\n",
      "1996      46\n",
      "1997      38\n",
      "1994      35\n",
      "1993      27\n",
      "1990      22\n",
      "1991      21\n",
      "1992      20\n",
      "1988      13\n",
      "1989      11\n",
      "1987       8\n",
      "1986       7\n",
      "1985       4\n",
      "1982       1\n",
      "Name: Year_of_recruitment, dtype: int64 \n",
      "\n",
      "Targets_met \n",
      " 0    24788\n",
      "1    13524\n",
      "Name: Targets_met, dtype: int64 \n",
      "\n",
      "Previous_Award \n",
      " 0    37425\n",
      "1      887\n",
      "Name: Previous_Award, dtype: int64 \n",
      "\n",
      "Training_score_average \n",
      " 41    1873\n",
      "42    1867\n",
      "40    1719\n",
      "43    1634\n",
      "52    1517\n",
      "      ... \n",
      "88      30\n",
      "91      24\n",
      "33      18\n",
      "32       5\n",
      "31       1\n",
      "Name: Training_score_average, Length: 61, dtype: int64 \n",
      "\n",
      "State_Of_Origin \n",
      " LAGOS          6204\n",
      "FCT            2389\n",
      "OGUN           2302\n",
      "RIVERS         2222\n",
      "ANAMBRA        1710\n",
      "KANO           1649\n",
      "DELTA          1594\n",
      "OYO            1508\n",
      "KADUNA         1399\n",
      "IMO            1307\n",
      "EDO            1259\n",
      "ENUGU          1025\n",
      "ABIA            950\n",
      "OSUN            929\n",
      "ONDO            875\n",
      "NIGER           857\n",
      "KWARA           765\n",
      "PLATEAU         739\n",
      "AKWA IBOM       673\n",
      "NASSARAWA       632\n",
      "KATSINA         615\n",
      "ADAMAWA         605\n",
      "BENUE           579\n",
      "BAUCHI          557\n",
      "KOGI            542\n",
      "SOKOTO          499\n",
      "CROSS RIVER     495\n",
      "EKITI           455\n",
      "BORNO           447\n",
      "TARABA          400\n",
      "KEBBI           393\n",
      "BAYELSA         324\n",
      "EBONYI          313\n",
      "GOMBE           291\n",
      "ZAMFARA         290\n",
      "JIGAWA          262\n",
      "YOBE            257\n",
      "Name: State_Of_Origin, dtype: int64 \n",
      "\n",
      "Foreign_schooled \n",
      " Yes    34995\n",
      "No      3317\n",
      "Name: Foreign_schooled, dtype: int64 \n",
      "\n",
      "Marital_Status \n",
      " Married     31022\n",
      "Single       6927\n",
      "Not_Sure      363\n",
      "Name: Marital_Status, dtype: int64 \n",
      "\n",
      "Past_Disciplinary_Action \n",
      " No     38161\n",
      "Yes      151\n",
      "Name: Past_Disciplinary_Action, dtype: int64 \n",
      "\n",
      "Previous_IntraDepartmental_Movement \n",
      " No     34709\n",
      "Yes     3603\n",
      "Name: Previous_IntraDepartmental_Movement, dtype: int64 \n",
      "\n",
      "No_of_previous_employers \n",
      " 1              18867\n",
      "0              13272\n",
      "2               1918\n",
      "3               1587\n",
      "4               1324\n",
      "5                943\n",
      "More than 5      401\n",
      "Name: No_of_previous_employers, dtype: int64 \n",
      "\n",
      "Promoted_or_Not \n",
      " 0    35071\n",
      "1     3241\n",
      "Name: Promoted_or_Not, dtype: int64 \n",
      "\n"
     ]
    }
   ],
   "source": [
    "for col in df.columns:\n",
    "    print(col, '\\n' ,df[col].value_counts().sort_values(ascending=False) , '\\n')"
   ]
  },
  {
   "cell_type": "markdown",
   "metadata": {},
   "source": [
    "# cleaning\n",
    "## droping unneeded columns  \n",
    "droping EmployeeNo columns as it is unique value column  "
   ]
  },
  {
   "cell_type": "code",
   "execution_count": 12,
   "metadata": {},
   "outputs": [],
   "source": [
    "df.drop('EmployeeNo', axis=1, inplace=True)"
   ]
  },
  {
   "cell_type": "markdown",
   "metadata": {},
   "source": [
    "## handeling missing data\n",
    "Qualification has 1679 missing values\n",
    "will cast them as unknow = '0'"
   ]
  },
  {
   "cell_type": "code",
   "execution_count": 17,
   "metadata": {},
   "outputs": [
    {
     "data": {
      "text/plain": [
       "1679"
      ]
     },
     "execution_count": 17,
     "metadata": {},
     "output_type": "execute_result"
    }
   ],
   "source": [
    "df.Qualification.isna().sum()"
   ]
  },
  {
   "cell_type": "code",
   "execution_count": 18,
   "metadata": {},
   "outputs": [],
   "source": [
    "df.loc[df.Qualification.isna(), 'Qualification'] = '0'"
   ]
  },
  {
   "cell_type": "code",
   "execution_count": 19,
   "metadata": {},
   "outputs": [
    {
     "name": "stdout",
     "output_type": "stream",
     "text": [
      "<class 'pandas.core.frame.DataFrame'>\n",
      "RangeIndex: 38312 entries, 0 to 38311\n",
      "Data columns (total 18 columns):\n",
      " #   Column                               Non-Null Count  Dtype  \n",
      "---  ------                               --------------  -----  \n",
      " 0   Division                             38312 non-null  object \n",
      " 1   Qualification                        38312 non-null  object \n",
      " 2   Gender                               38312 non-null  object \n",
      " 3   Channel_of_Recruitment               38312 non-null  object \n",
      " 4   Trainings_Attended                   38312 non-null  int64  \n",
      " 5   Year_of_birth                        38312 non-null  int64  \n",
      " 6   Last_performance_score               38312 non-null  float64\n",
      " 7   Year_of_recruitment                  38312 non-null  int64  \n",
      " 8   Targets_met                          38312 non-null  int64  \n",
      " 9   Previous_Award                       38312 non-null  int64  \n",
      " 10  Training_score_average               38312 non-null  int64  \n",
      " 11  State_Of_Origin                      38312 non-null  object \n",
      " 12  Foreign_schooled                     38312 non-null  object \n",
      " 13  Marital_Status                       38312 non-null  object \n",
      " 14  Past_Disciplinary_Action             38312 non-null  object \n",
      " 15  Previous_IntraDepartmental_Movement  38312 non-null  object \n",
      " 16  No_of_previous_employers             38312 non-null  object \n",
      " 17  Promoted_or_Not                      38312 non-null  int64  \n",
      "dtypes: float64(1), int64(7), object(10)\n",
      "memory usage: 5.3+ MB\n"
     ]
    }
   ],
   "source": [
    "df.info()"
   ]
  },
  {
   "cell_type": "markdown",
   "metadata": {},
   "source": [
    "## handeling the boolians columns"
   ]
  },
  {
   "cell_type": "code",
   "execution_count": 20,
   "metadata": {},
   "outputs": [],
   "source": [
    "# turing yes no columns to bool\n",
    "for col in ['Previous_IntraDepartmental_Movement', 'Past_Disciplinary_Action', 'Foreign_schooled']:\n",
    "    df[col] = df[col].str.replace('Yes', '1').str.replace('No', '0')\n",
    "    df[col] = df[col].astype('int').astype('bool')"
   ]
  },
  {
   "cell_type": "code",
   "execution_count": null,
   "metadata": {},
   "outputs": [],
   "source": []
  },
  {
   "cell_type": "code",
   "execution_count": 21,
   "metadata": {},
   "outputs": [],
   "source": [
    "# truning thr trarget column to bool\n",
    "df.Promoted_or_Not = df.Promoted_or_Not.astype('bool') "
   ]
  },
  {
   "cell_type": "code",
   "execution_count": null,
   "metadata": {},
   "outputs": [],
   "source": [
    "df['Year_since_recruitment'] = max(df.Year_of_recruitment) - df.Year_of_recruitment + 1 "
   ]
  },
  {
   "cell_type": "code",
   "execution_count": null,
   "metadata": {},
   "outputs": [],
   "source": [
    "# resampling the data set accoring to the traget to gerentate a balanced dataset\n",
    "df_no_promo = df.loc[df.Promoted_or_Not == 0]\n",
    "df_yes_promo = df.loc[df.Promoted_or_Not == 1]"
   ]
  },
  {
   "cell_type": "code",
   "execution_count": null,
   "metadata": {},
   "outputs": [],
   "source": [
    "len(df_no_promo)"
   ]
  },
  {
   "cell_type": "code",
   "execution_count": null,
   "metadata": {},
   "outputs": [],
   "source": [
    "len(df_yes_promo)"
   ]
  },
  {
   "cell_type": "code",
   "execution_count": null,
   "metadata": {},
   "outputs": [],
   "source": [
    "to_blance_promo = resample(df_yes_promo, replace=True, n_samples=int(len(df_no_promo)), random_state=42)"
   ]
  },
  {
   "cell_type": "code",
   "execution_count": null,
   "metadata": {},
   "outputs": [],
   "source": [
    "len(to_blance_promo)"
   ]
  },
  {
   "cell_type": "code",
   "execution_count": null,
   "metadata": {},
   "outputs": [],
   "source": [
    "df_b = pd.concat([df_no_promo, to_blance_promo])\n",
    "X = df_b.copy().drop(columns=['Year_of_recruitment','Promoted_or_Not', 'EmployeeNo', 'Division', 'Qualification', 'Channel_of_Recruitment', 'State_Of_Origin', 'Marital_Status', 'No_of_previous_employers', 'Gender'])\n",
    "y = df_b.Promoted_or_Not"
   ]
  },
  {
   "cell_type": "code",
   "execution_count": null,
   "metadata": {},
   "outputs": [],
   "source": [
    "df_b.info()"
   ]
  },
  {
   "cell_type": "code",
   "execution_count": null,
   "metadata": {},
   "outputs": [],
   "source": [
    "X_train,X_test,y_train,y_test = train_test_split(X,y,random_state=42)"
   ]
  },
  {
   "cell_type": "code",
   "execution_count": null,
   "metadata": {},
   "outputs": [],
   "source": [
    "#random forest with gini\n",
    "rf = RandomForestClassifier(criterion='gini',n_estimators=150,max_depth=4,n_jobs=-1)\n",
    "\n",
    "rf.fit(X_train,y_train)\n",
    "\n",
    "rf_predict = rf.predict(X_test)\n",
    "\n",
    "f1_score(y_test, rf_predict, average='micro')"
   ]
  },
  {
   "cell_type": "code",
   "execution_count": null,
   "metadata": {},
   "outputs": [],
   "source": [
    "n_trees = [i for i in range(100,200)]\n",
    "depths = [i for i in range(3,11)]\n",
    "var_matrix = []\n",
    "for i in depths:\n",
    "    for j in n_trees:\n",
    "        var_matrix.append((i, j))"
   ]
  },
  {
   "cell_type": "code",
   "execution_count": null,
   "metadata": {},
   "outputs": [],
   "source": [
    "best = [0, 0, 0]\n",
    "for depth, n_tree in var_matrix:\n",
    "    rf = RandomForestClassifier(criterion='gini', n_estimators=n_tree, max_depth=depth,n_jobs=-1)\n",
    "    rf.fit(X_train,y_train)\n",
    "    rf_predict = rf.predict(X_test)\n",
    "    f_score = f1_score(y_test, rf_predict, average='micro')\n",
    "    print(best[0], best[1], best[2])\n",
    "    if f_score > best[2]:\n",
    "        best[0], best[1], best[2] = depth, n_tree, f_score"
   ]
  },
  {
   "cell_type": "code",
   "execution_count": null,
   "metadata": {},
   "outputs": [],
   "source": []
  }
 ],
 "metadata": {
  "kernelspec": {
   "display_name": "Python 3",
   "language": "python",
   "name": "python3"
  },
  "language_info": {
   "codemirror_mode": {
    "name": "ipython",
    "version": 3
   },
   "file_extension": ".py",
   "mimetype": "text/x-python",
   "name": "python",
   "nbconvert_exporter": "python",
   "pygments_lexer": "ipython3",
   "version": "3.7.6"
  }
 },
 "nbformat": 4,
 "nbformat_minor": 4
}
